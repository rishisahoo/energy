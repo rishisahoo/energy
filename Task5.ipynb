{
 "cells": [
  {
   "cell_type": "code",
   "execution_count": null,
   "id": "6cb2ae72",
   "metadata": {},
   "outputs": [],
   "source": [
    "\n",
    "# Task 5: Splitting Data for Modeling\n",
    "import pandas as pd\n",
    "from sklearn.model_selection import train_test_split\n",
    "\n",
    "df = pd.read_csv('energy_efficiency_data.csv')\n",
    "\n",
    "X = df[['X1', 'X2', 'X3', 'X4', 'X5', 'X6', 'X7', 'X8']]\n",
    "y = df['X1']  # Example target\n",
    "X_train, X_test, y_train, y_test = train_test_split(X, y, test_size=0.2, random_state=42)\n"
   ]
  }
 ],
 "metadata": {},
 "nbformat": 4,
 "nbformat_minor": 5
}