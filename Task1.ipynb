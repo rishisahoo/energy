{
 "cells": [
  {
   "cell_type": "code",
   "execution_count": null,
   "id": "348ef537",
   "metadata": {},
   "outputs": [],
   "source": [
    "\n",
    "# Task 1: Importing Required Libraries\n",
    "import pandas as pd\n",
    "import numpy as np\n",
    "import matplotlib.pyplot as plt\n"
   ]
  }
 ],
 "metadata": {},
 "nbformat": 4,
 "nbformat_minor": 5
}