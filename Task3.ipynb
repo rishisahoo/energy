{
 "cells": [
  {
   "cell_type": "code",
   "execution_count": null,
   "id": "f9de8472",
   "metadata": {},
   "outputs": [],
   "source": [
    "\n",
    "# Task 3: Basic Data Inspection\n",
    "import pandas as pd\n",
    "\n",
    "df = pd.read_csv('energy_efficiency_data.csv')\n",
    "\n",
    "print(\"Dataset:\")\n",
    "print(df.head())\n",
    "print(\"\\nStatistical Summary:\")\n",
    "print(df.describe())\n"
   ]
  }
 ],
 "metadata": {},
 "nbformat": 4,
 "nbformat_minor": 5
}