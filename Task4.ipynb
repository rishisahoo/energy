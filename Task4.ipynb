{
 "cells": [
  {
   "cell_type": "code",
   "execution_count": null,
   "id": "5559ef1d",
   "metadata": {},
   "outputs": [],
   "source": [
    "\n",
    "# Task 4: Exploratory Data Analysis (EDA)\n",
    "import pandas as pd\n",
    "import matplotlib.pyplot as plt\n",
    "\n",
    "df = pd.read_csv('energy_efficiency_data.csv')\n",
    "\n",
    "df.plot(kind='box', subplots=True, layout=(2, 4), figsize=(12, 8), title=\"Feature Distributions\")\n",
    "plt.show()\n"
   ]
  }
 ],
 "metadata": {},
 "nbformat": 4,
 "nbformat_minor": 5
}