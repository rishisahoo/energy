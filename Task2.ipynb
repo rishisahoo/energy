{
 "cells": [
  {
   "cell_type": "code",
   "execution_count": null,
   "id": "24e43ef4",
   "metadata": {},
   "outputs": [],
   "source": [
    "\n",
    "# Task 2: Creating the Dataset\n",
    "import pandas as pd\n",
    "\n",
    "data = {\n",
    "    'X1': [0.62, 0.76, 0.66],\n",
    "    'X2': [808.50, 661.50, 759.50],\n",
    "    'X3': [220.50, 122.50, 220.50],\n",
    "    'X4': [220.50, 122.50, 220.50],\n",
    "    'X5': [3.50, 7.00, 3.50],\n",
    "    'X6': [3, 4, 4],\n",
    "    'X7': [0.10, 0.10, 0.10],\n",
    "    'X8': [1, 2, 5]\n",
    "}\n",
    "df = pd.DataFrame(data)\n",
    "df.to_csv('energy_efficiency_data.csv', index=False)\n",
    "print(\"Dataset saved to 'energy_efficiency_data.csv'\")\n"
   ]
  }
 ],
 "metadata": {},
 "nbformat": 4,
 "nbformat_minor": 5
}