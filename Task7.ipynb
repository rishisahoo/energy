{
 "cells": [
  {
   "cell_type": "code",
   "execution_count": null,
   "id": "84a7cae9",
   "metadata": {},
   "outputs": [],
   "source": [
    "\n",
    "# Task 7: Evaluating the Model\n",
    "from sklearn.metrics import r2_score, mean_absolute_error\n",
    "\n",
    "if len(y_test) < 2:\n",
    "    print(\"R² score cannot be calculated with less than two samples in the test set.\")\n",
    "else:\n",
    "    print(\"R² Score:\", r2_score(y_test, y_pred))\n",
    "\n",
    "print(\"Mean Absolute Error:\", mean_absolute_error(y_test, y_pred))\n"
   ]
  }
 ],
 "metadata": {},
 "nbformat": 4,
 "nbformat_minor": 5
}