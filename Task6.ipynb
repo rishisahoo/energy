{
 "cells": [
  {
   "cell_type": "code",
   "execution_count": null,
   "id": "b2c3bf8b",
   "metadata": {},
   "outputs": [],
   "source": [
    "\n",
    "# Task 6: Building a Linear Regression Model\n",
    "from sklearn.linear_model import LinearRegression\n",
    "\n",
    "model = LinearRegression()\n",
    "model.fit(X_train, y_train)\n",
    "y_pred = model.predict(X_test)\n"
   ]
  }
 ],
 "metadata": {},
 "nbformat": 4,
 "nbformat_minor": 5
}